{
  "nbformat": 4,
  "nbformat_minor": 0,
  "metadata": {
    "colab": {
      "name": "text_summarization",
      "provenance": [],
      "collapsed_sections": [],
      "authorship_tag": "ABX9TyO9TR8Mks6JTdWG6Z6ODWgn",
      "include_colab_link": true
    },
    "kernelspec": {
      "name": "python3",
      "display_name": "Python 3"
    },
    "widgets": {
      "application/vnd.jupyter.widget-state+json": {
        "7b3f63dd628747fe9ae1ce99731b4b9a": {
          "model_module": "@jupyter-widgets/controls",
          "model_name": "HBoxModel",
          "state": {
            "_view_name": "HBoxView",
            "_dom_classes": [],
            "_model_name": "HBoxModel",
            "_view_module": "@jupyter-widgets/controls",
            "_model_module_version": "1.5.0",
            "_view_count": null,
            "_view_module_version": "1.5.0",
            "box_style": "",
            "layout": "IPY_MODEL_0dd98a77b2774dc4afb3600e246630f3",
            "_model_module": "@jupyter-widgets/controls",
            "children": [
              "IPY_MODEL_3338d761ae9d44588c41b4aa78cdbcd8",
              "IPY_MODEL_411add5fc4054087b67339b7fb9a54e6"
            ]
          }
        },
        "0dd98a77b2774dc4afb3600e246630f3": {
          "model_module": "@jupyter-widgets/base",
          "model_name": "LayoutModel",
          "state": {
            "_view_name": "LayoutView",
            "grid_template_rows": null,
            "right": null,
            "justify_content": null,
            "_view_module": "@jupyter-widgets/base",
            "overflow": null,
            "_model_module_version": "1.2.0",
            "_view_count": null,
            "flex_flow": null,
            "width": null,
            "min_width": null,
            "border": null,
            "align_items": null,
            "bottom": null,
            "_model_module": "@jupyter-widgets/base",
            "top": null,
            "grid_column": null,
            "overflow_y": null,
            "overflow_x": null,
            "grid_auto_flow": null,
            "grid_area": null,
            "grid_template_columns": null,
            "flex": null,
            "_model_name": "LayoutModel",
            "justify_items": null,
            "grid_row": null,
            "max_height": null,
            "align_content": null,
            "visibility": null,
            "align_self": null,
            "height": null,
            "min_height": null,
            "padding": null,
            "grid_auto_rows": null,
            "grid_gap": null,
            "max_width": null,
            "order": null,
            "_view_module_version": "1.2.0",
            "grid_template_areas": null,
            "object_position": null,
            "object_fit": null,
            "grid_auto_columns": null,
            "margin": null,
            "display": null,
            "left": null
          }
        },
        "3338d761ae9d44588c41b4aa78cdbcd8": {
          "model_module": "@jupyter-widgets/controls",
          "model_name": "FloatProgressModel",
          "state": {
            "_view_name": "ProgressView",
            "style": "IPY_MODEL_a5173ba06deb46a5aa70485c6a2545c9",
            "_dom_classes": [],
            "description": "Downloading: 100%",
            "_model_name": "FloatProgressModel",
            "bar_style": "success",
            "max": 1197,
            "_view_module": "@jupyter-widgets/controls",
            "_model_module_version": "1.5.0",
            "value": 1197,
            "_view_count": null,
            "_view_module_version": "1.5.0",
            "orientation": "horizontal",
            "min": 0,
            "description_tooltip": null,
            "_model_module": "@jupyter-widgets/controls",
            "layout": "IPY_MODEL_504ea64bcd154e72aa0ee3651e4564fe"
          }
        },
        "411add5fc4054087b67339b7fb9a54e6": {
          "model_module": "@jupyter-widgets/controls",
          "model_name": "HTMLModel",
          "state": {
            "_view_name": "HTMLView",
            "style": "IPY_MODEL_2dbb2828cb6c452f8c1d527bde06ba16",
            "_dom_classes": [],
            "description": "",
            "_model_name": "HTMLModel",
            "placeholder": "​",
            "_view_module": "@jupyter-widgets/controls",
            "_model_module_version": "1.5.0",
            "value": " 1.20k/1.20k [00:00&lt;00:00, 3.32kB/s]",
            "_view_count": null,
            "_view_module_version": "1.5.0",
            "description_tooltip": null,
            "_model_module": "@jupyter-widgets/controls",
            "layout": "IPY_MODEL_6c3788802cd54f15a275018eef0355ad"
          }
        },
        "a5173ba06deb46a5aa70485c6a2545c9": {
          "model_module": "@jupyter-widgets/controls",
          "model_name": "ProgressStyleModel",
          "state": {
            "_view_name": "StyleView",
            "_model_name": "ProgressStyleModel",
            "description_width": "initial",
            "_view_module": "@jupyter-widgets/base",
            "_model_module_version": "1.5.0",
            "_view_count": null,
            "_view_module_version": "1.2.0",
            "bar_color": null,
            "_model_module": "@jupyter-widgets/controls"
          }
        },
        "504ea64bcd154e72aa0ee3651e4564fe": {
          "model_module": "@jupyter-widgets/base",
          "model_name": "LayoutModel",
          "state": {
            "_view_name": "LayoutView",
            "grid_template_rows": null,
            "right": null,
            "justify_content": null,
            "_view_module": "@jupyter-widgets/base",
            "overflow": null,
            "_model_module_version": "1.2.0",
            "_view_count": null,
            "flex_flow": null,
            "width": null,
            "min_width": null,
            "border": null,
            "align_items": null,
            "bottom": null,
            "_model_module": "@jupyter-widgets/base",
            "top": null,
            "grid_column": null,
            "overflow_y": null,
            "overflow_x": null,
            "grid_auto_flow": null,
            "grid_area": null,
            "grid_template_columns": null,
            "flex": null,
            "_model_name": "LayoutModel",
            "justify_items": null,
            "grid_row": null,
            "max_height": null,
            "align_content": null,
            "visibility": null,
            "align_self": null,
            "height": null,
            "min_height": null,
            "padding": null,
            "grid_auto_rows": null,
            "grid_gap": null,
            "max_width": null,
            "order": null,
            "_view_module_version": "1.2.0",
            "grid_template_areas": null,
            "object_position": null,
            "object_fit": null,
            "grid_auto_columns": null,
            "margin": null,
            "display": null,
            "left": null
          }
        },
        "2dbb2828cb6c452f8c1d527bde06ba16": {
          "model_module": "@jupyter-widgets/controls",
          "model_name": "DescriptionStyleModel",
          "state": {
            "_view_name": "StyleView",
            "_model_name": "DescriptionStyleModel",
            "description_width": "",
            "_view_module": "@jupyter-widgets/base",
            "_model_module_version": "1.5.0",
            "_view_count": null,
            "_view_module_version": "1.2.0",
            "_model_module": "@jupyter-widgets/controls"
          }
        },
        "6c3788802cd54f15a275018eef0355ad": {
          "model_module": "@jupyter-widgets/base",
          "model_name": "LayoutModel",
          "state": {
            "_view_name": "LayoutView",
            "grid_template_rows": null,
            "right": null,
            "justify_content": null,
            "_view_module": "@jupyter-widgets/base",
            "overflow": null,
            "_model_module_version": "1.2.0",
            "_view_count": null,
            "flex_flow": null,
            "width": null,
            "min_width": null,
            "border": null,
            "align_items": null,
            "bottom": null,
            "_model_module": "@jupyter-widgets/base",
            "top": null,
            "grid_column": null,
            "overflow_y": null,
            "overflow_x": null,
            "grid_auto_flow": null,
            "grid_area": null,
            "grid_template_columns": null,
            "flex": null,
            "_model_name": "LayoutModel",
            "justify_items": null,
            "grid_row": null,
            "max_height": null,
            "align_content": null,
            "visibility": null,
            "align_self": null,
            "height": null,
            "min_height": null,
            "padding": null,
            "grid_auto_rows": null,
            "grid_gap": null,
            "max_width": null,
            "order": null,
            "_view_module_version": "1.2.0",
            "grid_template_areas": null,
            "object_position": null,
            "object_fit": null,
            "grid_auto_columns": null,
            "margin": null,
            "display": null,
            "left": null
          }
        },
        "900b8eb538c440e39388971fd98610b2": {
          "model_module": "@jupyter-widgets/controls",
          "model_name": "HBoxModel",
          "state": {
            "_view_name": "HBoxView",
            "_dom_classes": [],
            "_model_name": "HBoxModel",
            "_view_module": "@jupyter-widgets/controls",
            "_model_module_version": "1.5.0",
            "_view_count": null,
            "_view_module_version": "1.5.0",
            "box_style": "",
            "layout": "IPY_MODEL_f8635cae36ff419fafbd84ddf114bfb7",
            "_model_module": "@jupyter-widgets/controls",
            "children": [
              "IPY_MODEL_8fda58159d9945c7a014be77cbb744b7",
              "IPY_MODEL_4ad20c50f5b44b3c8c3f39134d31a71d"
            ]
          }
        },
        "f8635cae36ff419fafbd84ddf114bfb7": {
          "model_module": "@jupyter-widgets/base",
          "model_name": "LayoutModel",
          "state": {
            "_view_name": "LayoutView",
            "grid_template_rows": null,
            "right": null,
            "justify_content": null,
            "_view_module": "@jupyter-widgets/base",
            "overflow": null,
            "_model_module_version": "1.2.0",
            "_view_count": null,
            "flex_flow": null,
            "width": null,
            "min_width": null,
            "border": null,
            "align_items": null,
            "bottom": null,
            "_model_module": "@jupyter-widgets/base",
            "top": null,
            "grid_column": null,
            "overflow_y": null,
            "overflow_x": null,
            "grid_auto_flow": null,
            "grid_area": null,
            "grid_template_columns": null,
            "flex": null,
            "_model_name": "LayoutModel",
            "justify_items": null,
            "grid_row": null,
            "max_height": null,
            "align_content": null,
            "visibility": null,
            "align_self": null,
            "height": null,
            "min_height": null,
            "padding": null,
            "grid_auto_rows": null,
            "grid_gap": null,
            "max_width": null,
            "order": null,
            "_view_module_version": "1.2.0",
            "grid_template_areas": null,
            "object_position": null,
            "object_fit": null,
            "grid_auto_columns": null,
            "margin": null,
            "display": null,
            "left": null
          }
        },
        "8fda58159d9945c7a014be77cbb744b7": {
          "model_module": "@jupyter-widgets/controls",
          "model_name": "FloatProgressModel",
          "state": {
            "_view_name": "ProgressView",
            "style": "IPY_MODEL_a274fa105bab4afd9e9c66f896ce1416",
            "_dom_classes": [],
            "description": "Downloading: 100%",
            "_model_name": "FloatProgressModel",
            "bar_style": "success",
            "max": 242136741,
            "_view_module": "@jupyter-widgets/controls",
            "_model_module_version": "1.5.0",
            "value": 242136741,
            "_view_count": null,
            "_view_module_version": "1.5.0",
            "orientation": "horizontal",
            "min": 0,
            "description_tooltip": null,
            "_model_module": "@jupyter-widgets/controls",
            "layout": "IPY_MODEL_4809b2e9a9e341b6b952e209b40c71ff"
          }
        },
        "4ad20c50f5b44b3c8c3f39134d31a71d": {
          "model_module": "@jupyter-widgets/controls",
          "model_name": "HTMLModel",
          "state": {
            "_view_name": "HTMLView",
            "style": "IPY_MODEL_68ce7943f4c94904a5f5cb7eff6ff0aa",
            "_dom_classes": [],
            "description": "",
            "_model_name": "HTMLModel",
            "placeholder": "​",
            "_view_module": "@jupyter-widgets/controls",
            "_model_module_version": "1.5.0",
            "value": " 242M/242M [00:16&lt;00:00, 14.9MB/s]",
            "_view_count": null,
            "_view_module_version": "1.5.0",
            "description_tooltip": null,
            "_model_module": "@jupyter-widgets/controls",
            "layout": "IPY_MODEL_d669641a5f7841838e6dc78f98dabdea"
          }
        },
        "a274fa105bab4afd9e9c66f896ce1416": {
          "model_module": "@jupyter-widgets/controls",
          "model_name": "ProgressStyleModel",
          "state": {
            "_view_name": "StyleView",
            "_model_name": "ProgressStyleModel",
            "description_width": "initial",
            "_view_module": "@jupyter-widgets/base",
            "_model_module_version": "1.5.0",
            "_view_count": null,
            "_view_module_version": "1.2.0",
            "bar_color": null,
            "_model_module": "@jupyter-widgets/controls"
          }
        },
        "4809b2e9a9e341b6b952e209b40c71ff": {
          "model_module": "@jupyter-widgets/base",
          "model_name": "LayoutModel",
          "state": {
            "_view_name": "LayoutView",
            "grid_template_rows": null,
            "right": null,
            "justify_content": null,
            "_view_module": "@jupyter-widgets/base",
            "overflow": null,
            "_model_module_version": "1.2.0",
            "_view_count": null,
            "flex_flow": null,
            "width": null,
            "min_width": null,
            "border": null,
            "align_items": null,
            "bottom": null,
            "_model_module": "@jupyter-widgets/base",
            "top": null,
            "grid_column": null,
            "overflow_y": null,
            "overflow_x": null,
            "grid_auto_flow": null,
            "grid_area": null,
            "grid_template_columns": null,
            "flex": null,
            "_model_name": "LayoutModel",
            "justify_items": null,
            "grid_row": null,
            "max_height": null,
            "align_content": null,
            "visibility": null,
            "align_self": null,
            "height": null,
            "min_height": null,
            "padding": null,
            "grid_auto_rows": null,
            "grid_gap": null,
            "max_width": null,
            "order": null,
            "_view_module_version": "1.2.0",
            "grid_template_areas": null,
            "object_position": null,
            "object_fit": null,
            "grid_auto_columns": null,
            "margin": null,
            "display": null,
            "left": null
          }
        },
        "68ce7943f4c94904a5f5cb7eff6ff0aa": {
          "model_module": "@jupyter-widgets/controls",
          "model_name": "DescriptionStyleModel",
          "state": {
            "_view_name": "StyleView",
            "_model_name": "DescriptionStyleModel",
            "description_width": "",
            "_view_module": "@jupyter-widgets/base",
            "_model_module_version": "1.5.0",
            "_view_count": null,
            "_view_module_version": "1.2.0",
            "_model_module": "@jupyter-widgets/controls"
          }
        },
        "d669641a5f7841838e6dc78f98dabdea": {
          "model_module": "@jupyter-widgets/base",
          "model_name": "LayoutModel",
          "state": {
            "_view_name": "LayoutView",
            "grid_template_rows": null,
            "right": null,
            "justify_content": null,
            "_view_module": "@jupyter-widgets/base",
            "overflow": null,
            "_model_module_version": "1.2.0",
            "_view_count": null,
            "flex_flow": null,
            "width": null,
            "min_width": null,
            "border": null,
            "align_items": null,
            "bottom": null,
            "_model_module": "@jupyter-widgets/base",
            "top": null,
            "grid_column": null,
            "overflow_y": null,
            "overflow_x": null,
            "grid_auto_flow": null,
            "grid_area": null,
            "grid_template_columns": null,
            "flex": null,
            "_model_name": "LayoutModel",
            "justify_items": null,
            "grid_row": null,
            "max_height": null,
            "align_content": null,
            "visibility": null,
            "align_self": null,
            "height": null,
            "min_height": null,
            "padding": null,
            "grid_auto_rows": null,
            "grid_gap": null,
            "max_width": null,
            "order": null,
            "_view_module_version": "1.2.0",
            "grid_template_areas": null,
            "object_position": null,
            "object_fit": null,
            "grid_auto_columns": null,
            "margin": null,
            "display": null,
            "left": null
          }
        },
        "f18964c66a8e47648792c4f3b92f37e0": {
          "model_module": "@jupyter-widgets/controls",
          "model_name": "HBoxModel",
          "state": {
            "_view_name": "HBoxView",
            "_dom_classes": [],
            "_model_name": "HBoxModel",
            "_view_module": "@jupyter-widgets/controls",
            "_model_module_version": "1.5.0",
            "_view_count": null,
            "_view_module_version": "1.5.0",
            "box_style": "",
            "layout": "IPY_MODEL_90cb682c00544c9a9df8188a294d41bd",
            "_model_module": "@jupyter-widgets/controls",
            "children": [
              "IPY_MODEL_a1f4b6b86f3f4f698ae05655794c2a82",
              "IPY_MODEL_ce3f10eaf89741df9107bfe124077de2"
            ]
          }
        },
        "90cb682c00544c9a9df8188a294d41bd": {
          "model_module": "@jupyter-widgets/base",
          "model_name": "LayoutModel",
          "state": {
            "_view_name": "LayoutView",
            "grid_template_rows": null,
            "right": null,
            "justify_content": null,
            "_view_module": "@jupyter-widgets/base",
            "overflow": null,
            "_model_module_version": "1.2.0",
            "_view_count": null,
            "flex_flow": null,
            "width": null,
            "min_width": null,
            "border": null,
            "align_items": null,
            "bottom": null,
            "_model_module": "@jupyter-widgets/base",
            "top": null,
            "grid_column": null,
            "overflow_y": null,
            "overflow_x": null,
            "grid_auto_flow": null,
            "grid_area": null,
            "grid_template_columns": null,
            "flex": null,
            "_model_name": "LayoutModel",
            "justify_items": null,
            "grid_row": null,
            "max_height": null,
            "align_content": null,
            "visibility": null,
            "align_self": null,
            "height": null,
            "min_height": null,
            "padding": null,
            "grid_auto_rows": null,
            "grid_gap": null,
            "max_width": null,
            "order": null,
            "_view_module_version": "1.2.0",
            "grid_template_areas": null,
            "object_position": null,
            "object_fit": null,
            "grid_auto_columns": null,
            "margin": null,
            "display": null,
            "left": null
          }
        },
        "a1f4b6b86f3f4f698ae05655794c2a82": {
          "model_module": "@jupyter-widgets/controls",
          "model_name": "FloatProgressModel",
          "state": {
            "_view_name": "ProgressView",
            "style": "IPY_MODEL_812636691eac400093e390d17ddf738f",
            "_dom_classes": [],
            "description": "Downloading: 100%",
            "_model_name": "FloatProgressModel",
            "bar_style": "success",
            "max": 791656,
            "_view_module": "@jupyter-widgets/controls",
            "_model_module_version": "1.5.0",
            "value": 791656,
            "_view_count": null,
            "_view_module_version": "1.5.0",
            "orientation": "horizontal",
            "min": 0,
            "description_tooltip": null,
            "_model_module": "@jupyter-widgets/controls",
            "layout": "IPY_MODEL_296ad590f85e482181946fac1974f9e7"
          }
        },
        "ce3f10eaf89741df9107bfe124077de2": {
          "model_module": "@jupyter-widgets/controls",
          "model_name": "HTMLModel",
          "state": {
            "_view_name": "HTMLView",
            "style": "IPY_MODEL_a85179e112fa4d1cbb799524eaed051f",
            "_dom_classes": [],
            "description": "",
            "_model_name": "HTMLModel",
            "placeholder": "​",
            "_view_module": "@jupyter-widgets/controls",
            "_model_module_version": "1.5.0",
            "value": " 792k/792k [00:02&lt;00:00, 322kB/s]",
            "_view_count": null,
            "_view_module_version": "1.5.0",
            "description_tooltip": null,
            "_model_module": "@jupyter-widgets/controls",
            "layout": "IPY_MODEL_70ad934f4ba544748822cb50849907e7"
          }
        },
        "812636691eac400093e390d17ddf738f": {
          "model_module": "@jupyter-widgets/controls",
          "model_name": "ProgressStyleModel",
          "state": {
            "_view_name": "StyleView",
            "_model_name": "ProgressStyleModel",
            "description_width": "initial",
            "_view_module": "@jupyter-widgets/base",
            "_model_module_version": "1.5.0",
            "_view_count": null,
            "_view_module_version": "1.2.0",
            "bar_color": null,
            "_model_module": "@jupyter-widgets/controls"
          }
        },
        "296ad590f85e482181946fac1974f9e7": {
          "model_module": "@jupyter-widgets/base",
          "model_name": "LayoutModel",
          "state": {
            "_view_name": "LayoutView",
            "grid_template_rows": null,
            "right": null,
            "justify_content": null,
            "_view_module": "@jupyter-widgets/base",
            "overflow": null,
            "_model_module_version": "1.2.0",
            "_view_count": null,
            "flex_flow": null,
            "width": null,
            "min_width": null,
            "border": null,
            "align_items": null,
            "bottom": null,
            "_model_module": "@jupyter-widgets/base",
            "top": null,
            "grid_column": null,
            "overflow_y": null,
            "overflow_x": null,
            "grid_auto_flow": null,
            "grid_area": null,
            "grid_template_columns": null,
            "flex": null,
            "_model_name": "LayoutModel",
            "justify_items": null,
            "grid_row": null,
            "max_height": null,
            "align_content": null,
            "visibility": null,
            "align_self": null,
            "height": null,
            "min_height": null,
            "padding": null,
            "grid_auto_rows": null,
            "grid_gap": null,
            "max_width": null,
            "order": null,
            "_view_module_version": "1.2.0",
            "grid_template_areas": null,
            "object_position": null,
            "object_fit": null,
            "grid_auto_columns": null,
            "margin": null,
            "display": null,
            "left": null
          }
        },
        "a85179e112fa4d1cbb799524eaed051f": {
          "model_module": "@jupyter-widgets/controls",
          "model_name": "DescriptionStyleModel",
          "state": {
            "_view_name": "StyleView",
            "_model_name": "DescriptionStyleModel",
            "description_width": "",
            "_view_module": "@jupyter-widgets/base",
            "_model_module_version": "1.5.0",
            "_view_count": null,
            "_view_module_version": "1.2.0",
            "_model_module": "@jupyter-widgets/controls"
          }
        },
        "70ad934f4ba544748822cb50849907e7": {
          "model_module": "@jupyter-widgets/base",
          "model_name": "LayoutModel",
          "state": {
            "_view_name": "LayoutView",
            "grid_template_rows": null,
            "right": null,
            "justify_content": null,
            "_view_module": "@jupyter-widgets/base",
            "overflow": null,
            "_model_module_version": "1.2.0",
            "_view_count": null,
            "flex_flow": null,
            "width": null,
            "min_width": null,
            "border": null,
            "align_items": null,
            "bottom": null,
            "_model_module": "@jupyter-widgets/base",
            "top": null,
            "grid_column": null,
            "overflow_y": null,
            "overflow_x": null,
            "grid_auto_flow": null,
            "grid_area": null,
            "grid_template_columns": null,
            "flex": null,
            "_model_name": "LayoutModel",
            "justify_items": null,
            "grid_row": null,
            "max_height": null,
            "align_content": null,
            "visibility": null,
            "align_self": null,
            "height": null,
            "min_height": null,
            "padding": null,
            "grid_auto_rows": null,
            "grid_gap": null,
            "max_width": null,
            "order": null,
            "_view_module_version": "1.2.0",
            "grid_template_areas": null,
            "object_position": null,
            "object_fit": null,
            "grid_auto_columns": null,
            "margin": null,
            "display": null,
            "left": null
          }
        }
      }
    }
  },
  "cells": [
    {
      "cell_type": "markdown",
      "metadata": {
        "id": "view-in-github",
        "colab_type": "text"
      },
      "source": [
        "<a href=\"https://colab.research.google.com/github/sahilgupta001/TextSummarizer/blob/master/text_summarization.ipynb\" target=\"_parent\"><img src=\"https://colab.research.google.com/assets/colab-badge.svg\" alt=\"Open In Colab\"/></a>"
      ]
    },
    {
      "cell_type": "markdown",
      "metadata": {
        "id": "e5c7-rrXtR-H",
        "colab_type": "text"
      },
      "source": [
        "***We are using the BERT(Binary Encoder Representation of Transformers) for training a model. We will use the pre-trained text to text h5 model provided by the hugging face library. The model is trained on a large corpus of text and thius helps learn the word embeddings easily. We have choosen this model to get rid of the large and the long process of model training. Transfer learning is the new state-of-the-art technology and hence we are using a pre-trained model for that.***"
      ]
    },
    {
      "cell_type": "markdown",
      "metadata": {
        "id": "rOmos8rAuMYy",
        "colab_type": "text"
      },
      "source": [
        "# **PART - 1**"
      ]
    },
    {
      "cell_type": "markdown",
      "metadata": {
        "id": "TtnUXx3UuUG_",
        "colab_type": "text"
      },
      "source": [
        "***In this part we are going to load the pretrained model from the transformers library and do the required text preprocessing. After that we will get the predictions for all the articles provided to us in the test file and store them in submission file***"
      ]
    },
    {
      "cell_type": "code",
      "metadata": {
        "id": "KwlyBJ38tS8y",
        "colab_type": "code",
        "colab": {
          "base_uri": "https://localhost:8080/",
          "height": 683
        },
        "outputId": "a958bfe3-d30b-4f3e-c112-2dcf9e5fbec0"
      },
      "source": [
        "%pip install transformers==2.8.0\n",
        "import torch\n",
        "import json\n",
        "import csv\n",
        "import numpy as np\n",
        "import pandas as pd\n",
        "from transformers import T5Tokenizer, T5ForConditionalGeneration, T5Config"
      ],
      "execution_count": null,
      "outputs": [
        {
          "output_type": "stream",
          "text": [
            "Collecting transformers==2.8.0\n",
            "\u001b[?25l  Downloading https://files.pythonhosted.org/packages/a3/78/92cedda05552398352ed9784908b834ee32a0bd071a9b32de287327370b7/transformers-2.8.0-py3-none-any.whl (563kB)\n",
            "\r\u001b[K     |▋                               | 10kB 19.2MB/s eta 0:00:01\r\u001b[K     |█▏                              | 20kB 1.7MB/s eta 0:00:01\r\u001b[K     |█▊                              | 30kB 2.3MB/s eta 0:00:01\r\u001b[K     |██▎                             | 40kB 2.5MB/s eta 0:00:01\r\u001b[K     |███                             | 51kB 2.0MB/s eta 0:00:01\r\u001b[K     |███▌                            | 61kB 2.3MB/s eta 0:00:01\r\u001b[K     |████                            | 71kB 2.5MB/s eta 0:00:01\r\u001b[K     |████▋                           | 81kB 2.7MB/s eta 0:00:01\r\u001b[K     |█████▎                          | 92kB 2.9MB/s eta 0:00:01\r\u001b[K     |█████▉                          | 102kB 2.8MB/s eta 0:00:01\r\u001b[K     |██████▍                         | 112kB 2.8MB/s eta 0:00:01\r\u001b[K     |███████                         | 122kB 2.8MB/s eta 0:00:01\r\u001b[K     |███████▋                        | 133kB 2.8MB/s eta 0:00:01\r\u001b[K     |████████▏                       | 143kB 2.8MB/s eta 0:00:01\r\u001b[K     |████████▊                       | 153kB 2.8MB/s eta 0:00:01\r\u001b[K     |█████████▎                      | 163kB 2.8MB/s eta 0:00:01\r\u001b[K     |█████████▉                      | 174kB 2.8MB/s eta 0:00:01\r\u001b[K     |██████████▌                     | 184kB 2.8MB/s eta 0:00:01\r\u001b[K     |███████████                     | 194kB 2.8MB/s eta 0:00:01\r\u001b[K     |███████████▋                    | 204kB 2.8MB/s eta 0:00:01\r\u001b[K     |████████████▏                   | 215kB 2.8MB/s eta 0:00:01\r\u001b[K     |████████████▉                   | 225kB 2.8MB/s eta 0:00:01\r\u001b[K     |█████████████▍                  | 235kB 2.8MB/s eta 0:00:01\r\u001b[K     |██████████████                  | 245kB 2.8MB/s eta 0:00:01\r\u001b[K     |██████████████▌                 | 256kB 2.8MB/s eta 0:00:01\r\u001b[K     |███████████████▏                | 266kB 2.8MB/s eta 0:00:01\r\u001b[K     |███████████████▊                | 276kB 2.8MB/s eta 0:00:01\r\u001b[K     |████████████████▎               | 286kB 2.8MB/s eta 0:00:01\r\u001b[K     |████████████████▉               | 296kB 2.8MB/s eta 0:00:01\r\u001b[K     |█████████████████▍              | 307kB 2.8MB/s eta 0:00:01\r\u001b[K     |██████████████████              | 317kB 2.8MB/s eta 0:00:01\r\u001b[K     |██████████████████▋             | 327kB 2.8MB/s eta 0:00:01\r\u001b[K     |███████████████████▏            | 337kB 2.8MB/s eta 0:00:01\r\u001b[K     |███████████████████▊            | 348kB 2.8MB/s eta 0:00:01\r\u001b[K     |████████████████████▍           | 358kB 2.8MB/s eta 0:00:01\r\u001b[K     |█████████████████████           | 368kB 2.8MB/s eta 0:00:01\r\u001b[K     |█████████████████████▌          | 378kB 2.8MB/s eta 0:00:01\r\u001b[K     |██████████████████████          | 389kB 2.8MB/s eta 0:00:01\r\u001b[K     |██████████████████████▊         | 399kB 2.8MB/s eta 0:00:01\r\u001b[K     |███████████████████████▎        | 409kB 2.8MB/s eta 0:00:01\r\u001b[K     |███████████████████████▉        | 419kB 2.8MB/s eta 0:00:01\r\u001b[K     |████████████████████████▍       | 430kB 2.8MB/s eta 0:00:01\r\u001b[K     |█████████████████████████       | 440kB 2.8MB/s eta 0:00:01\r\u001b[K     |█████████████████████████▋      | 450kB 2.8MB/s eta 0:00:01\r\u001b[K     |██████████████████████████▏     | 460kB 2.8MB/s eta 0:00:01\r\u001b[K     |██████████████████████████▊     | 471kB 2.8MB/s eta 0:00:01\r\u001b[K     |███████████████████████████▎    | 481kB 2.8MB/s eta 0:00:01\r\u001b[K     |████████████████████████████    | 491kB 2.8MB/s eta 0:00:01\r\u001b[K     |████████████████████████████▌   | 501kB 2.8MB/s eta 0:00:01\r\u001b[K     |█████████████████████████████   | 512kB 2.8MB/s eta 0:00:01\r\u001b[K     |█████████████████████████████▋  | 522kB 2.8MB/s eta 0:00:01\r\u001b[K     |██████████████████████████████▎ | 532kB 2.8MB/s eta 0:00:01\r\u001b[K     |██████████████████████████████▉ | 542kB 2.8MB/s eta 0:00:01\r\u001b[K     |███████████████████████████████▍| 552kB 2.8MB/s eta 0:00:01\r\u001b[K     |████████████████████████████████| 563kB 2.8MB/s eta 0:00:01\r\u001b[K     |████████████████████████████████| 573kB 2.8MB/s \n",
            "\u001b[?25hCollecting tokenizers==0.5.2\n",
            "\u001b[?25l  Downloading https://files.pythonhosted.org/packages/d1/3f/73c881ea4723e43c1e9acf317cf407fab3a278daab3a69c98dcac511c04f/tokenizers-0.5.2-cp36-cp36m-manylinux1_x86_64.whl (3.7MB)\n",
            "\u001b[K     |████████████████████████████████| 3.7MB 29kB/s \n",
            "\u001b[?25hCollecting sentencepiece\n",
            "\u001b[?25l  Downloading https://files.pythonhosted.org/packages/d4/a4/d0a884c4300004a78cca907a6ff9a5e9fe4f090f5d95ab341c53d28cbc58/sentencepiece-0.1.91-cp36-cp36m-manylinux1_x86_64.whl (1.1MB)\n",
            "\u001b[K     |████████████████████████████████| 1.1MB 31.6MB/s \n",
            "\u001b[?25hRequirement already satisfied: boto3 in /usr/local/lib/python3.6/dist-packages (from transformers==2.8.0) (1.14.9)\n",
            "Requirement already satisfied: filelock in /usr/local/lib/python3.6/dist-packages (from transformers==2.8.0) (3.0.12)\n",
            "Requirement already satisfied: regex!=2019.12.17 in /usr/local/lib/python3.6/dist-packages (from transformers==2.8.0) (2019.12.20)\n",
            "Requirement already satisfied: dataclasses; python_version < \"3.7\" in /usr/local/lib/python3.6/dist-packages (from transformers==2.8.0) (0.7)\n",
            "Requirement already satisfied: numpy in /usr/local/lib/python3.6/dist-packages (from transformers==2.8.0) (1.18.5)\n",
            "Requirement already satisfied: requests in /usr/local/lib/python3.6/dist-packages (from transformers==2.8.0) (2.23.0)\n",
            "Collecting sacremoses\n",
            "\u001b[?25l  Downloading https://files.pythonhosted.org/packages/7d/34/09d19aff26edcc8eb2a01bed8e98f13a1537005d31e95233fd48216eed10/sacremoses-0.0.43.tar.gz (883kB)\n",
            "\u001b[K     |████████████████████████████████| 890kB 41.3MB/s \n",
            "\u001b[?25hRequirement already satisfied: tqdm>=4.27 in /usr/local/lib/python3.6/dist-packages (from transformers==2.8.0) (4.41.1)\n",
            "Requirement already satisfied: jmespath<1.0.0,>=0.7.1 in /usr/local/lib/python3.6/dist-packages (from boto3->transformers==2.8.0) (0.10.0)\n",
            "Requirement already satisfied: botocore<1.18.0,>=1.17.9 in /usr/local/lib/python3.6/dist-packages (from boto3->transformers==2.8.0) (1.17.9)\n",
            "Requirement already satisfied: s3transfer<0.4.0,>=0.3.0 in /usr/local/lib/python3.6/dist-packages (from boto3->transformers==2.8.0) (0.3.3)\n",
            "Requirement already satisfied: chardet<4,>=3.0.2 in /usr/local/lib/python3.6/dist-packages (from requests->transformers==2.8.0) (3.0.4)\n",
            "Requirement already satisfied: certifi>=2017.4.17 in /usr/local/lib/python3.6/dist-packages (from requests->transformers==2.8.0) (2020.6.20)\n",
            "Requirement already satisfied: urllib3!=1.25.0,!=1.25.1,<1.26,>=1.21.1 in /usr/local/lib/python3.6/dist-packages (from requests->transformers==2.8.0) (1.24.3)\n",
            "Requirement already satisfied: idna<3,>=2.5 in /usr/local/lib/python3.6/dist-packages (from requests->transformers==2.8.0) (2.9)\n",
            "Requirement already satisfied: six in /usr/local/lib/python3.6/dist-packages (from sacremoses->transformers==2.8.0) (1.12.0)\n",
            "Requirement already satisfied: click in /usr/local/lib/python3.6/dist-packages (from sacremoses->transformers==2.8.0) (7.1.2)\n",
            "Requirement already satisfied: joblib in /usr/local/lib/python3.6/dist-packages (from sacremoses->transformers==2.8.0) (0.15.1)\n",
            "Requirement already satisfied: python-dateutil<3.0.0,>=2.1 in /usr/local/lib/python3.6/dist-packages (from botocore<1.18.0,>=1.17.9->boto3->transformers==2.8.0) (2.8.1)\n",
            "Requirement already satisfied: docutils<0.16,>=0.10 in /usr/local/lib/python3.6/dist-packages (from botocore<1.18.0,>=1.17.9->boto3->transformers==2.8.0) (0.15.2)\n",
            "Building wheels for collected packages: sacremoses\n",
            "  Building wheel for sacremoses (setup.py) ... \u001b[?25l\u001b[?25hdone\n",
            "  Created wheel for sacremoses: filename=sacremoses-0.0.43-cp36-none-any.whl size=893260 sha256=bfbda6e38c6665fe65cc7c0a91458101ddc669bfa8c526579ca4e330678e27da\n",
            "  Stored in directory: /root/.cache/pip/wheels/29/3c/fd/7ce5c3f0666dab31a50123635e6fb5e19ceb42ce38d4e58f45\n",
            "Successfully built sacremoses\n",
            "Installing collected packages: tokenizers, sentencepiece, sacremoses, transformers\n",
            "Successfully installed sacremoses-0.0.43 sentencepiece-0.1.91 tokenizers-0.5.2 transformers-2.8.0\n"
          ],
          "name": "stdout"
        }
      ]
    },
    {
      "cell_type": "markdown",
      "metadata": {
        "id": "WjR-2ZHHpqRy",
        "colab_type": "text"
      },
      "source": [
        "***Importing the pretrained model from the Hugging Face Transformers Library***"
      ]
    },
    {
      "cell_type": "code",
      "metadata": {
        "id": "OQVY1lxCpZoP",
        "colab_type": "code",
        "colab": {
          "base_uri": "https://localhost:8080/",
          "height": 115,
          "referenced_widgets": [
            "7b3f63dd628747fe9ae1ce99731b4b9a",
            "0dd98a77b2774dc4afb3600e246630f3",
            "3338d761ae9d44588c41b4aa78cdbcd8",
            "411add5fc4054087b67339b7fb9a54e6",
            "a5173ba06deb46a5aa70485c6a2545c9",
            "504ea64bcd154e72aa0ee3651e4564fe",
            "2dbb2828cb6c452f8c1d527bde06ba16",
            "6c3788802cd54f15a275018eef0355ad",
            "900b8eb538c440e39388971fd98610b2",
            "f8635cae36ff419fafbd84ddf114bfb7",
            "8fda58159d9945c7a014be77cbb744b7",
            "4ad20c50f5b44b3c8c3f39134d31a71d",
            "a274fa105bab4afd9e9c66f896ce1416",
            "4809b2e9a9e341b6b952e209b40c71ff",
            "68ce7943f4c94904a5f5cb7eff6ff0aa",
            "d669641a5f7841838e6dc78f98dabdea"
          ]
        },
        "outputId": "605dd9e9-b614-4fd6-d84d-a9af00e83f2f"
      },
      "source": [
        "pretrained_model = T5ForConditionalGeneration.from_pretrained('t5-small')"
      ],
      "execution_count": null,
      "outputs": [
        {
          "output_type": "display_data",
          "data": {
            "application/vnd.jupyter.widget-view+json": {
              "model_id": "7b3f63dd628747fe9ae1ce99731b4b9a",
              "version_minor": 0,
              "version_major": 2
            },
            "text/plain": [
              "HBox(children=(FloatProgress(value=0.0, description='Downloading', max=1197.0, style=ProgressStyle(description…"
            ]
          },
          "metadata": {
            "tags": []
          }
        },
        {
          "output_type": "stream",
          "text": [
            "\n"
          ],
          "name": "stdout"
        },
        {
          "output_type": "display_data",
          "data": {
            "application/vnd.jupyter.widget-view+json": {
              "model_id": "900b8eb538c440e39388971fd98610b2",
              "version_minor": 0,
              "version_major": 2
            },
            "text/plain": [
              "HBox(children=(FloatProgress(value=0.0, description='Downloading', max=242136741.0, style=ProgressStyle(descri…"
            ]
          },
          "metadata": {
            "tags": []
          }
        },
        {
          "output_type": "stream",
          "text": [
            "\n"
          ],
          "name": "stdout"
        }
      ]
    },
    {
      "cell_type": "markdown",
      "metadata": {
        "id": "6e0ezKK2p8LE",
        "colab_type": "text"
      },
      "source": [
        "***Importing and using the built in tokenizer provided by the Hugging Face Library***"
      ]
    },
    {
      "cell_type": "code",
      "metadata": {
        "id": "WuZDyq_Hp62v",
        "colab_type": "code",
        "colab": {
          "base_uri": "https://localhost:8080/",
          "height": 66,
          "referenced_widgets": [
            "f18964c66a8e47648792c4f3b92f37e0",
            "90cb682c00544c9a9df8188a294d41bd",
            "a1f4b6b86f3f4f698ae05655794c2a82",
            "ce3f10eaf89741df9107bfe124077de2",
            "812636691eac400093e390d17ddf738f",
            "296ad590f85e482181946fac1974f9e7",
            "a85179e112fa4d1cbb799524eaed051f",
            "70ad934f4ba544748822cb50849907e7"
          ]
        },
        "outputId": "c038b6f5-7a18-4b5f-faba-c70edd0b73ba"
      },
      "source": [
        "tokenizer = T5Tokenizer.from_pretrained('t5-small', do_lower_case = False)\n",
        "device = torch.device(\"cpu\")"
      ],
      "execution_count": null,
      "outputs": [
        {
          "output_type": "display_data",
          "data": {
            "application/vnd.jupyter.widget-view+json": {
              "model_id": "f18964c66a8e47648792c4f3b92f37e0",
              "version_minor": 0,
              "version_major": 2
            },
            "text/plain": [
              "HBox(children=(FloatProgress(value=0.0, description='Downloading', max=791656.0, style=ProgressStyle(descripti…"
            ]
          },
          "metadata": {
            "tags": []
          }
        },
        {
          "output_type": "stream",
          "text": [
            "\n"
          ],
          "name": "stdout"
        }
      ]
    },
    {
      "cell_type": "markdown",
      "metadata": {
        "id": "FTqN5KEhrNmX",
        "colab_type": "text"
      },
      "source": [
        "***Importing the dataset that we have***"
      ]
    },
    {
      "cell_type": "code",
      "metadata": {
        "id": "e4GwbS6DrLcQ",
        "colab_type": "code",
        "colab": {
          "base_uri": "https://localhost:8080/",
          "height": 136
        },
        "outputId": "1c483047-9976-488d-93cb-bb0a8d9872ef"
      },
      "source": [
        "data = pd.read_excel(\"/content/TASK.xlsx\", skiprows = 1)\n",
        "print(data.shape)\n",
        "print(data.head())"
      ],
      "execution_count": null,
      "outputs": [
        {
          "output_type": "stream",
          "text": [
            "(1000, 2)\n",
            "   Unnamed: 0                                       Introduction\n",
            "0         NaN  Acnesol Gel is an antibiotic that fights bacte...\n",
            "1         NaN  Ambrodil Syrup is used for treating various re...\n",
            "2         NaN  Augmentin 625 Duo Tablet is a penicillin-type ...\n",
            "3         NaN  Azithral 500 Tablet is an antibiotic used to t...\n",
            "4         NaN  Alkasol Oral Solution is a medicine used in th...\n"
          ],
          "name": "stdout"
        }
      ]
    },
    {
      "cell_type": "markdown",
      "metadata": {
        "id": "pw2w1wF6rmQP",
        "colab_type": "text"
      },
      "source": [
        "***The only relevant column in this dataset is the text that we want to summarize so we are keeping that only in out dataframe***"
      ]
    },
    {
      "cell_type": "code",
      "metadata": {
        "id": "baNLZwu2ryAr",
        "colab_type": "code",
        "colab": {
          "base_uri": "https://localhost:8080/",
          "height": 119
        },
        "outputId": "0ffbaf2c-91e5-425d-b091-298615734664"
      },
      "source": [
        "data = data[\"Introduction\"]\n",
        "print(data.head())"
      ],
      "execution_count": null,
      "outputs": [
        {
          "output_type": "stream",
          "text": [
            "0    Acnesol Gel is an antibiotic that fights bacte...\n",
            "1    Ambrodil Syrup is used for treating various re...\n",
            "2    Augmentin 625 Duo Tablet is a penicillin-type ...\n",
            "3    Azithral 500 Tablet is an antibiotic used to t...\n",
            "4    Alkasol Oral Solution is a medicine used in th...\n",
            "Name: Introduction, dtype: object\n"
          ],
          "name": "stdout"
        }
      ]
    },
    {
      "cell_type": "code",
      "metadata": {
        "id": "RZZOYH7prgJJ",
        "colab_type": "code",
        "colab": {}
      },
      "source": [
        "def preprocess(text):\n",
        "  text = text.strip().replace(\"\\n\", \"\")\n",
        "  text = \"summarize: \" + text\n",
        "  return text\n",
        "\n",
        "for i in range(len(data)):\n",
        "  data[i] =  preprocess(data[i])\n",
        "\n",
        "\n",
        "summaries = []"
      ],
      "execution_count": null,
      "outputs": []
    },
    {
      "cell_type": "markdown",
      "metadata": {
        "id": "jFbKoQ_k0IzZ",
        "colab_type": "text"
      },
      "source": [
        "***Now its time to tokenize all the text using thee tokenizer provided to us.***"
      ]
    },
    {
      "cell_type": "code",
      "metadata": {
        "id": "MklGu7YxvR5P",
        "colab_type": "code",
        "colab": {}
      },
      "source": [
        "def process(text):\n",
        "  tokenized_text = tokenizer.encode(text, return_tensors=\"pt\").to(device)\n",
        "  summary_ids = pretrained_model.generate(tokenized_text,\n",
        "                             num_beams=4,\n",
        "                             no_repeat_ngram_size=2,\n",
        "                             min_length=50,\n",
        "                             max_length=100,\n",
        "                             early_stopping=True)\n",
        "  output = tokenizer.decode(summary_ids[0], skip_special_tokens=True)\n",
        "  summaries.append(output)"
      ],
      "execution_count": null,
      "outputs": []
    },
    {
      "cell_type": "code",
      "metadata": {
        "id": "55HMwE7oz8V2",
        "colab_type": "code",
        "colab": {}
      },
      "source": [
        "for text in data[:10]:\n",
        "  process(text)"
      ],
      "execution_count": null,
      "outputs": []
    },
    {
      "cell_type": "markdown",
      "metadata": {
        "id": "xnEtAsoxPqnA",
        "colab_type": "text"
      },
      "source": [
        "***Saving the summaries in the submission file***"
      ]
    },
    {
      "cell_type": "code",
      "metadata": {
        "id": "FWv6-0nqPnI6",
        "colab_type": "code",
        "colab": {}
      },
      "source": [
        "data = pd.read_excel(\"/content/TASK.xlsx\", skiprows = 1)\n",
        "data[\"Summary\"] = summaries\n",
        "data.to_csv(\"submission.csv\", index = False)"
      ],
      "execution_count": null,
      "outputs": []
    },
    {
      "cell_type": "markdown",
      "metadata": {
        "id": "amZf6kx2uzpk",
        "colab_type": "text"
      },
      "source": [
        "# **PART-2**"
      ]
    },
    {
      "cell_type": "markdown",
      "metadata": {
        "id": "VmG8ZMJZPpFe",
        "colab_type": "text"
      },
      "source": [
        "\n",
        "\n",
        "---\n",
        "***Now in this secction we are going to make the same function but this function will take a sentence from the user and the lengths of output required by the model.***"
      ]
    },
    {
      "cell_type": "code",
      "metadata": {
        "id": "BRcteUmqQrsb",
        "colab_type": "code",
        "colab": {}
      },
      "source": [
        "def processSentence(text, min, max):\n",
        "  tokenized_text = tokenizer.encode(text, return_tensors=\"pt\").to(device)\n",
        "  summary_ids = pretrained_model.generate(tokenized_text,\n",
        "                             num_beams=4,\n",
        "                             no_repeat_ngram_size=2,\n",
        "                             min_length=min,\n",
        "                             max_length=max,\n",
        "                             early_stopping=True)\n",
        "  output = tokenizer.decode(summary_ids[0], skip_special_tokens=True)\n",
        "  return output"
      ],
      "execution_count": null,
      "outputs": []
    },
    {
      "cell_type": "markdown",
      "metadata": {
        "id": "DnSc2WWsu8Qx",
        "colab_type": "text"
      },
      "source": [
        "***Now we are required to take the input from the user and ask for the minimum andd the maximum length of the summary from the user and then do thee processing of the input to get the output***"
      ]
    },
    {
      "cell_type": "code",
      "metadata": {
        "id": "jjNDO6q5R5HB",
        "colab_type": "code",
        "colab": {}
      },
      "source": [
        "text = input(\"Enter the text: \")\n",
        "min = input(\"Enter the minimum summary length: \")\n",
        "max = input(\"Enter the maximum summary length: \")\n",
        "text = preprocess(text)\n",
        "output = processSentence(text, int(min), int(max))\n",
        "print(output)"
      ],
      "execution_count": null,
      "outputs": []
    },
    {
      "cell_type": "code",
      "metadata": {
        "id": "O0XSgYvtgoIn",
        "colab_type": "code",
        "colab": {}
      },
      "source": [
        ""
      ],
      "execution_count": null,
      "outputs": []
    }
  ]
}